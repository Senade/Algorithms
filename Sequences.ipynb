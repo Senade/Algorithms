{
 "cells": [
  {
   "cell_type": "markdown",
   "metadata": {},
   "source": [
    "# Sequences"
   ]
  },
  {
   "cell_type": "markdown",
   "metadata": {},
   "source": [
    "## 1. Array Quadruplet (4-SUM)\n",
    "\n",
    "Given an unsorted array of integers arr and a number s, write a function findArrayQuadruplet that finds four numbers (quadruplet) in arr that sum up to s. Your function should return an array of these numbers in an ascending order. If such a quadruplet doesn’t exist, return an empty array.\n",
    "\n",
    "Note that there may be more than one quadruplet in arr whose sum is s. You’re asked to return the first one you encounter"
   ]
  },
  {
   "cell_type": "code",
   "execution_count": 2,
   "metadata": {},
   "outputs": [],
   "source": [
    "def find_array_quadruplet(arr, s):\n",
    "    n = len(arr)\n",
    "    if n < 4:\n",
    "        return []\n",
    "    arr.sort()\n",
    "\n",
    "    for i in range(n - 3):\n",
    "        for j in range(i + 1, n - 2):\n",
    "            r = s - (arr[i] + arr[j])\n",
    "            low, high = j + 1, n - 1\n",
    "            while low < high:\n",
    "            if arr[low] + arr[high] < r:\n",
    "                low += 1\n",
    "            elif arr[low] + arr[high] > r:\n",
    "                high -= 1\n",
    "            else:\n",
    "                return [arr[i], arr[j], arr[low], arr[high]]\n",
    "    return []"
   ]
  },
  {
   "cell_type": "code",
   "execution_count": 3,
   "metadata": {},
   "outputs": [],
   "source": [
    "# Tests\n",
    "assert find_array_quadruplet(arr = [2, 7, 4, 0, 9, 5, 1, 3], s = 20) == [0, 4, 7, 9]"
   ]
  }
 ],
 "metadata": {
  "kernelspec": {
   "display_name": "Python 3",
   "language": "python",
   "name": "python3"
  },
  "language_info": {
   "codemirror_mode": {
    "name": "ipython",
    "version": 3
   },
   "file_extension": ".py",
   "mimetype": "text/x-python",
   "name": "python",
   "nbconvert_exporter": "python",
   "pygments_lexer": "ipython3",
   "version": "3.6.0"
  }
 },
 "nbformat": 4,
 "nbformat_minor": 2
}
